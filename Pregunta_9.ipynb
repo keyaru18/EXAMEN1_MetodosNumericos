{
 "cells": [
  {
   "cell_type": "code",
   "execution_count": 3,
   "id": "5441edb3",
   "metadata": {},
   "outputs": [
    {
     "ename": "TypeError",
     "evalue": "unsupported operand type(s) for ** or pow(): 'list' and 'int'",
     "output_type": "error",
     "traceback": [
      "\u001b[31m---------------------------------------------------------------------------\u001b[39m",
      "\u001b[31mTypeError\u001b[39m                                 Traceback (most recent call last)",
      "\u001b[36mCell\u001b[39m\u001b[36m \u001b[39m\u001b[32mIn[3]\u001b[39m\u001b[32m, line 13\u001b[39m\n\u001b[32m     11\u001b[39m \u001b[38;5;66;03m# Resolver el sistema\u001b[39;00m\n\u001b[32m     12\u001b[39m sol_poly = solve([eq1, eq2, eq3], (a, b, c))\n\u001b[32m---> \u001b[39m\u001b[32m13\u001b[39m P = a*\u001b[43mx\u001b[49m\u001b[43m*\u001b[49m\u001b[43m*\u001b[49m\u001b[32;43m2\u001b[39;49m + b*x + c\n\u001b[32m     14\u001b[39m P_interp = P.subs(sol_poly)\n\u001b[32m     15\u001b[39m \u001b[38;5;28mprint\u001b[39m(\u001b[33mf\u001b[39m\u001b[33m\"\u001b[39m\u001b[33mEl polinomio interpolante es: \u001b[39m\u001b[38;5;132;01m{\u001b[39;00mP_interp.expand()\u001b[38;5;132;01m}\u001b[39;00m\u001b[33m\"\u001b[39m)\n",
      "\u001b[31mTypeError\u001b[39m: unsupported operand type(s) for ** or pow(): 'list' and 'int'"
     ]
    }
   ],
   "source": [
    "from sympy import symbols, solve, Eq\n",
    "\n",
    "# Definir incógnitas\n",
    "a, b, c = symbols('a b c')\n",
    "\n",
    "# Sistema de ecuaciones para los puntos\n",
    "eq1 = Eq(a*(-1)**2 + b*(-1) + c, 1)\n",
    "eq2 = Eq(a*0**2 + b*0 + c, 5)\n",
    "eq3 = Eq(a*1**2 + b*1 + c, 3)\n",
    "\n",
    "# Resolver el sistema\n",
    "sol_poly = solve([eq1, eq2, eq3], (a, b, c))\n",
    "P = a*x**2 + b*x + c\n",
    "P_interp = P.subs(sol_poly)\n",
    "print(f\"El polinomio interpolante es: {P_interp.expand()}\")"
   ]
  },
  {
   "cell_type": "code",
   "execution_count": null,
   "id": "a05203b5",
   "metadata": {},
   "outputs": [],
   "source": []
  }
 ],
 "metadata": {
  "kernelspec": {
   "display_name": "Python 3",
   "language": "python",
   "name": "python3"
  },
  "language_info": {
   "codemirror_mode": {
    "name": "ipython",
    "version": 3
   },
   "file_extension": ".py",
   "mimetype": "text/x-python",
   "name": "python",
   "nbconvert_exporter": "python",
   "pygments_lexer": "ipython3",
   "version": "3.13.3"
  }
 },
 "nbformat": 4,
 "nbformat_minor": 5
}
